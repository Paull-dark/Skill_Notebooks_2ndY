{
 "cells": [
  {
   "cell_type": "markdown",
   "metadata": {},
   "source": [
    "# Linear Models"
   ]
  },
  {
   "cell_type": "code",
   "execution_count": 1,
   "metadata": {},
   "outputs": [],
   "source": [
    "import numpy as np\n",
    "import seaborn as sns"
   ]
  },
  {
   "cell_type": "code",
   "execution_count": 2,
   "metadata": {},
   "outputs": [],
   "source": [
    "np.random.seed(1)"
   ]
  },
  {
   "cell_type": "markdown",
   "metadata": {},
   "source": [
    "Generate dataset"
   ]
  },
  {
   "cell_type": "code",
   "execution_count": 3,
   "metadata": {},
   "outputs": [],
   "source": [
    "def linear_func(x):\n",
    "    target_k = 5\n",
    "    target_b = -2\n",
    "    return target_k * x + target_b"
   ]
  },
  {
   "cell_type": "code",
   "execution_count": 24,
   "metadata": {},
   "outputs": [
    {
     "name": "stdout",
     "output_type": "stream",
     "text": [
      "[0.  0.1 0.2 0.3 0.4 0.5 0.6 0.7 0.8 0.9 1. ]\n"
     ]
    }
   ],
   "source": [
    "xes = np.linspace(0,1,11)\n",
    "print(xes)"
   ]
  },
  {
   "cell_type": "code",
   "execution_count": 5,
   "metadata": {},
   "outputs": [
    {
     "name": "stdout",
     "output_type": "stream",
     "text": [
      "[-2.  -1.5 -1.  -0.5  0.   0.5  1.   1.5  2.   2.5  3. ]\n"
     ]
    }
   ],
   "source": [
    "target_ys = np.array([linear_func(x) for x in xes])\n",
    "print(target_ys)"
   ]
  },
  {
   "cell_type": "code",
   "execution_count": 6,
   "metadata": {},
   "outputs": [
    {
     "name": "stdout",
     "output_type": "stream",
     "text": [
      "[-1.83756546 -1.56117564 -1.05281718 -0.60729686  0.08654076  0.26984613\n",
      "  1.17448118  1.42387931  2.03190391  2.47506296  3.14621079]\n"
     ]
    }
   ],
   "source": [
    "noise = np.random.normal(0,0.1,11)\n",
    "noisy_target_ys = target_ys + noise\n",
    "print(noisy_target_ys)"
   ]
  },
  {
   "cell_type": "code",
   "execution_count": 7,
   "metadata": {},
   "outputs": [
    {
     "data": {
      "text/plain": [
       "<AxesSubplot:>"
      ]
     },
     "execution_count": 7,
     "metadata": {},
     "output_type": "execute_result"
    },
    {
     "data": {
      "image/png": "[encoded data removed]",
      "text/plain": [
       "<Figure size 432x288 with 1 Axes>"
      ]
     },
     "metadata": {
      "needs_background": "light"
     },
     "output_type": "display_data"
    }
   ],
   "source": [
    "sns.lineplot(x = xes, y = target_ys, color = 'g')\n",
    "sns.lineplot(x = xes, y = noisy_target_ys, color = 'b')"
   ]
  },
  {
   "cell_type": "markdown",
   "metadata": {},
   "source": [
    "## Lin Reg SKlearn"
   ]
  },
  {
   "cell_type": "code",
   "execution_count": 8,
   "metadata": {},
   "outputs": [
    {
     "name": "stdout",
     "output_type": "stream",
     "text": [
      "Linear coef: [5.] -2.000000000000001\n"
     ]
    }
   ],
   "source": [
    "from sklearn.linear_model import LinearRegression\n",
    "\n",
    "X = xes.reshape((-1,1))\n",
    "reg = LinearRegression().fit(X,target_ys)\n",
    "print('Linear coef:', reg.coef_, reg.intercept_)"
   ]
  },
  {
   "cell_type": "code",
   "execution_count": 9,
   "metadata": {},
   "outputs": [
    {
     "name": "stdout",
     "output_type": "stream",
     "text": [
      "Linear coef: [5.04257197] -2.016825086745488\n"
     ]
    }
   ],
   "source": [
    "reg = LinearRegression().fit(X, noisy_target_ys)\n",
    "print('Linear coef:', reg.coef_, reg.intercept_)"
   ]
  },
  {
   "cell_type": "code",
   "execution_count": 10,
   "metadata": {},
   "outputs": [
    {
     "data": {
      "text/plain": [
       "<AxesSubplot:>"
      ]
     },
     "execution_count": 10,
     "metadata": {},
     "output_type": "execute_result"
    },
    {
     "data": {
      "image/png": "[encoded data removed]",
      "text/plain": [
       "<Figure size 432x288 with 1 Axes>"
      ]
     },
     "metadata": {
      "needs_background": "light"
     },
     "output_type": "display_data"
    }
   ],
   "source": [
    "regression_pred = reg.predict(X)\n",
    "sns.lineplot(x = xes, y= target_ys, color = 'g')\n",
    "sns.lineplot(x = xes, y= noisy_target_ys, color = 'b')\n",
    "sns.lineplot(x = xes, y= regression_pred, color = 'r')"
   ]
  },
  {
   "cell_type": "code",
   "execution_count": 11,
   "metadata": {},
   "outputs": [],
   "source": [
    "class OwnLinearRegression:\n",
    "    def __init__(self, k = 5, b = -2):\n",
    "        self.k = k\n",
    "        self.b = b\n",
    "    def predict(self, X):\n",
    "        return [x* self.k + self.b for x in X]"
   ]
  },
  {
   "cell_type": "code",
   "execution_count": 12,
   "metadata": {},
   "outputs": [
    {
     "name": "stdout",
     "output_type": "stream",
     "text": [
      "[array([-2. , -1.5, -1. , -0.5,  0. ,  0.5,  1. ,  1.5,  2. ,  2.5,  3. ])]\n",
      "[-2.  -1.5 -1.  -0.5  0.   0.5  1.   1.5  2.   2.5  3. ]\n"
     ]
    }
   ],
   "source": [
    "lin_reg = OwnLinearRegression()\n",
    "lin_reg_pred = lin_reg.predict(np.array([xes]))\n",
    "print(lin_reg_pred)\n",
    "print(target_ys)"
   ]
  },
  {
   "cell_type": "code",
   "execution_count": null,
   "metadata": {},
   "outputs": [],
   "source": []
  },
  {
   "cell_type": "code",
   "execution_count": 14,
   "metadata": {},
   "outputs": [
    {
     "name": "stdout",
     "output_type": "stream",
     "text": [
      "Linear coef: [3.5] 3.500000000000001\n"
     ]
    }
   ],
   "source": [
    "from sklearn.linear_model import LinearRegression\n",
    "\n",
    "X = xes.reshape((-1,1))\n",
    "reg = LinearRegression().fit(X,y)\n",
    "print('Linear coef:', reg.coef_, reg.intercept_)"
   ]
  },
  {
   "cell_type": "code",
   "execution_count": 16,
   "metadata": {},
   "outputs": [],
   "source": [
    "class OwnLinearRegressionLS:\n",
    "    def __init__(self, k = 5, b = -2):\n",
    "        self.k = k\n",
    "        self.b = b\n",
    "    def predict(self, X):\n",
    "        return [x* self.k + self.b for x in X]\n",
    "    def fit(self, X,Y):\n",
    "        N = len(X)\n",
    "        sumX = X.sum()\n",
    "        sumY = Y.sum()\n",
    "        sumXSquares = np.sum(X**2)\n",
    "        sumXprodY = np.sum(X * Y)\n",
    "        \n",
    "        self.k = (sumXprodY - sumX * sumY /N) / \\\n",
    "        (sumXSquares - sumX * sumX / N)\n",
    "        \n",
    "        self.b = np.sum(Y - self.k*X)/ N"
   ]
  },
  {
   "cell_type": "code",
   "execution_count": 26,
   "metadata": {},
   "outputs": [
    {
     "name": "stdout",
     "output_type": "stream",
     "text": [
      "Predict [3]\n",
      "5.042571974017957 -2.0168250867454875\n",
      "Predict [8.068318861290425]\n"
     ]
    }
   ],
   "source": [
    "lin_reg = OwnLinearRegressionLS(1,1)\n",
    "print('Predict' , lin_reg.predict(np.array([2])))\n",
    "\n",
    "lin_reg.fit(xes, noisy_target_ys)\n",
    "print(lin_reg.k , lin_reg.b)\n",
    "print('Predict' , lin_reg.predict(np.array([2])))\n",
    "\n"
   ]
  },
  {
   "cell_type": "code",
   "execution_count": 27,
   "metadata": {},
   "outputs": [
    {
     "data": {
      "text/plain": [
       "array([0. , 0.1, 0.2, 0.3, 0.4, 0.5, 0.6, 0.7, 0.8, 0.9, 1. ])"
      ]
     },
     "execution_count": 27,
     "metadata": {},
     "output_type": "execute_result"
    }
   ],
   "source": [
    "xes"
   ]
  },
  {
   "cell_type": "code",
   "execution_count": 28,
   "metadata": {},
   "outputs": [
    {
     "data": {
      "text/plain": [
       "array([-1.83756546, -1.56117564, -1.05281718, -0.60729686,  0.08654076,\n",
       "        0.26984613,  1.17448118,  1.42387931,  2.03190391,  2.47506296,\n",
       "        3.14621079])"
      ]
     },
     "execution_count": 28,
     "metadata": {},
     "output_type": "execute_result"
    }
   ],
   "source": [
    "noisy_target_ys"
   ]
  },
  {
   "cell_type": "code",
   "execution_count": null,
   "metadata": {},
   "outputs": [],
   "source": []
  }
 ],
 "metadata": {
  "kernelspec": {
   "display_name": "Python 3",
   "language": "python",
   "name": "python3"
  },
  "language_info": {
   "codemirror_mode": {
    "name": "ipython",
    "version": 3
   },
   "file_extension": ".py",
   "mimetype": "text/x-python",
   "name": "python",
   "nbconvert_exporter": "python",
   "pygments_lexer": "ipython3",
   "version": "3.8.5"
  },
  "toc": {
   "base_numbering": 1,
   "nav_menu": {},
   "number_sections": true,
   "sideBar": true,
   "skip_h1_title": false,
   "title_cell": "Table of Contents",
   "title_sidebar": "Contents",
   "toc_cell": false,
   "toc_position": {},
   "toc_section_display": true,
   "toc_window_display": false
  },
  "varInspector": {
   "cols": {
    "lenName": 16,
    "lenType": 16,
    "lenVar": 40
   },
   "kernels_config": {
    "python": {
     "delete_cmd_postfix": "",
     "delete_cmd_prefix": "del ",
     "library": "var_list.py",
     "varRefreshCmd": "print(var_dic_list())"
    },
    "r": {
     "delete_cmd_postfix": ") ",
     "delete_cmd_prefix": "rm(",
     "library": "var_list.r",
     "varRefreshCmd": "cat(var_dic_list()) "
    }
   },
   "types_to_exclude": [
    "module",
    "function",
    "builtin_function_or_method",
    "instance",
    "_Feature"
   ],
   "window_display": false
  }
 },
 "nbformat": 4,
 "nbformat_minor": 4
}
