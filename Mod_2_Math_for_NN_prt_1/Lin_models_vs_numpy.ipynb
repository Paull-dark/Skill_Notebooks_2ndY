{
 "cells": [
  {
   "cell_type": "markdown",
   "metadata": {},
   "source": [
    "# Linear Models"
   ]
  },
  {
   "cell_type": "code",
   "execution_count": 1,
   "metadata": {},
   "outputs": [],
   "source": [
    "import numpy as np\n",
    "import seaborn as sns"
   ]
  },
  {
   "cell_type": "code",
   "execution_count": 2,
   "metadata": {},
   "outputs": [],
   "source": [
    "np.random.seed(1)"
   ]
  },
  {
   "cell_type": "markdown",
   "metadata": {},
   "source": [
    "Generate dataset"
   ]
  },
  {
   "cell_type": "code",
   "execution_count": 3,
   "metadata": {},
   "outputs": [],
   "source": [
    "def linear_func(x):\n",
    "    target_k = 5\n",
    "    target_b = -2\n",
    "    return target_k * x + target_b"
   ]
  },
  {
   "cell_type": "code",
   "execution_count": 4,
   "metadata": {},
   "outputs": [
    {
     "name": "stdout",
     "output_type": "stream",
     "text": [
      "[0.  0.1 0.2 0.3 0.4 0.5 0.6 0.7 0.8 0.9 1. ]\n"
     ]
    }
   ],
   "source": [
    "xes = np.linspace(0,1,11)\n",
    "print(xes)"
   ]
  },
  {
   "cell_type": "code",
   "execution_count": 5,
   "metadata": {},
   "outputs": [
    {
     "name": "stdout",
     "output_type": "stream",
     "text": [
      "[-2.  -1.5 -1.  -0.5  0.   0.5  1.   1.5  2.   2.5  3. ]\n"
     ]
    }
   ],
   "source": [
    "target_ys = np.array([linear_func(x) for x in xes])\n",
    "print(target_ys)"
   ]
  },
  {
   "cell_type": "code",
   "execution_count": 6,
   "metadata": {},
   "outputs": [
    {
     "name": "stdout",
     "output_type": "stream",
     "text": [
      "[-1.83756546 -1.56117564 -1.05281718 -0.60729686  0.08654076  0.26984613\n",
      "  1.17448118  1.42387931  2.03190391  2.47506296  3.14621079]\n"
     ]
    }
   ],
   "source": [
    "noise = np.random.normal(0,0.1,11)\n",
    "noisy_target_ys = target_ys + noise\n",
    "print(noisy_target_ys)"
   ]
  },
  {
   "cell_type": "code",
   "execution_count": 7,
   "metadata": {},
   "outputs": [
    {
     "data": {
      "text/plain": [
       "<matplotlib.axes._subplots.AxesSubplot at 0x20bd21f6f70>"
      ]
     },
     "execution_count": 7,
     "metadata": {},
     "output_type": "execute_result"
    },
    {
     "data": {
      "image/png": "[encoded data removed]",
      "text/plain": [
       "<Figure size 432x288 with 1 Axes>"
      ]
     },
     "metadata": {
      "needs_background": "light"
     },
     "output_type": "display_data"
    }
   ],
   "source": [
    "sns.lineplot(x = xes, y = target_ys, color = 'g')\n",
    "sns.lineplot(x = xes, y = noisy_target_ys, color = 'b')"
   ]
  },
  {
   "cell_type": "markdown",
   "metadata": {},
   "source": [
    "## Lin Reg SKlearn"
   ]
  },
  {
   "cell_type": "code",
   "execution_count": 8,
   "metadata": {},
   "outputs": [
    {
     "name": "stdout",
     "output_type": "stream",
     "text": [
      "Linear coef: [5.] -2.000000000000001\n"
     ]
    }
   ],
   "source": [
    "from sklearn.linear_model import LinearRegression\n",
    "\n",
    "X = xes.reshape((-1,1))\n",
    "reg = LinearRegression().fit(X,target_ys)\n",
    "print('Linear coef:', reg.coef_, reg.intercept_)"
   ]
  },
  {
   "cell_type": "code",
   "execution_count": 9,
   "metadata": {},
   "outputs": [
    {
     "name": "stdout",
     "output_type": "stream",
     "text": [
      "Linear coef: [5.04257197] -2.0168250867454875\n"
     ]
    }
   ],
   "source": [
    "reg = LinearRegression().fit(X, noisy_target_ys)\n",
    "print('Linear coef:', reg.coef_, reg.intercept_)"
   ]
  },
  {
   "cell_type": "code",
   "execution_count": 10,
   "metadata": {},
   "outputs": [
    {
     "data": {
      "text/plain": [
       "<matplotlib.axes._subplots.AxesSubplot at 0x20ba584a400>"
      ]
     },
     "execution_count": 10,
     "metadata": {},
     "output_type": "execute_result"
    },
    {
     "data": {
      "image/png": "[encoded data removed]",
      "text/plain": [
       "<Figure size 432x288 with 1 Axes>"
      ]
     },
     "metadata": {
      "needs_background": "light"
     },
     "output_type": "display_data"
    }
   ],
   "source": [
    "regression_pred = reg.predict(X)\n",
    "sns.lineplot(x = xes, y= target_ys, color = 'g')\n",
    "sns.lineplot(x = xes, y= noisy_target_ys, color = 'b')\n",
    "sns.lineplot(x = xes, y= regression_pred, color = 'r')"
   ]
  },
  {
   "cell_type": "code",
   "execution_count": 11,
   "metadata": {},
   "outputs": [],
   "source": [
    "class OwnLinearRegression:\n",
    "    def __init__(self, k = 5, b = -2):\n",
    "        self.k = k\n",
    "        self.b = b\n",
    "    def predict(self, X):\n",
    "        return [x* self.k + self.b for x in X]"
   ]
  },
  {
   "cell_type": "code",
   "execution_count": 12,
   "metadata": {},
   "outputs": [
    {
     "name": "stdout",
     "output_type": "stream",
     "text": [
      "[array([-2. , -1.5, -1. , -0.5,  0. ,  0.5,  1. ,  1.5,  2. ,  2.5,  3. ])]\n",
      "[-2.  -1.5 -1.  -0.5  0.   0.5  1.   1.5  2.   2.5  3. ]\n"
     ]
    }
   ],
   "source": [
    "lin_reg = OwnLinearRegression()\n",
    "lin_reg_pred = lin_reg.predict(np.array([xes]))\n",
    "print(lin_reg_pred)\n",
    "print(target_ys)"
   ]
  },
  {
   "cell_type": "code",
   "execution_count": 50,
   "metadata": {},
   "outputs": [],
   "source": [
    "class OwnLinearRegressionLS:\n",
    "    def __init__(self, k = 5, b = -2):\n",
    "        self.k = k\n",
    "        self.b = b\n",
    "    def predict(self, X):\n",
    "        return [x* self.k + self.b for x in X]\n",
    "    def fit(self, X,Y):\n",
    "        N = len(X)\n",
    "        sumX = X.sum()\n",
    "        sumY = Y.sum()\n",
    "        sumXSquares = np.sum(X**2)\n",
    "        sumXprodY = np.sum(X * Y)\n",
    "        \n",
    "        self.k = (sumXprodY - sumX * sumY /N) / \\\n",
    "        (sumXSquares - sumX * sumX / N)\n",
    "        \n",
    "        self.b = np.sum(Y - self.k*X)/ N"
   ]
  },
  {
   "cell_type": "code",
   "execution_count": null,
   "metadata": {},
   "outputs": [],
   "source": [
    "lin_reg = OwnLinearRegressionLS(1,1)\n",
    "print('Predict' , lin_reg.predict(np.array([2])))\n",
    "\n",
    "lin_reg.fit(xes, noisy_target_ys)\n",
    "print(lin_reg.k , lin_reg.b)\n",
    "print('Predict' , lin_reg.predict(np.array([2])))\n",
    "\n"
   ]
  },
  {
   "cell_type": "markdown",
   "metadata": {},
   "source": [
    "# Regressor with gradient dec"
   ]
  },
  {
   "cell_type": "code",
   "execution_count": 42,
   "metadata": {},
   "outputs": [],
   "source": [
    "np.random.seed(1)"
   ]
  },
  {
   "cell_type": "code",
   "execution_count": 33,
   "metadata": {},
   "outputs": [],
   "source": [
    "def linear_func(x):\n",
    "    \n",
    "    target_k = 5\n",
    "    target_b = -2\n",
    "    return target_k * x + target_b"
   ]
  },
  {
   "cell_type": "code",
   "execution_count": 34,
   "metadata": {},
   "outputs": [
    {
     "name": "stdout",
     "output_type": "stream",
     "text": [
      "[0.  0.1 0.2 0.3 0.4 0.5 0.6 0.7 0.8 0.9 1. ]\n"
     ]
    }
   ],
   "source": [
    "xes = np.linspace(0, 1, 11)\n",
    "\n",
    "print(xes)"
   ]
  },
  {
   "cell_type": "code",
   "execution_count": 35,
   "metadata": {},
   "outputs": [
    {
     "name": "stdout",
     "output_type": "stream",
     "text": [
      "[-2.  -1.5 -1.  -0.5  0.   0.5  1.   1.5  2.   2.5  3. ]\n"
     ]
    }
   ],
   "source": [
    "target_ys = np.array([linear_func(x) for x in xes])\n",
    "print(target_ys)"
   ]
  },
  {
   "cell_type": "code",
   "execution_count": 36,
   "metadata": {},
   "outputs": [
    {
     "name": "stdout",
     "output_type": "stream",
     "text": [
      "[-1.83756546 -1.56117564 -1.05281718 -0.60729686  0.08654076  0.26984613\n",
      "  1.17448118  1.42387931  2.03190391  2.47506296  3.14621079]\n"
     ]
    }
   ],
   "source": [
    "noise = np.random.normal(0, 0.1, 11)\n",
    "noisy_target_ys = target_ys + noise\n",
    "\n",
    "print(noisy_target_ys)"
   ]
  },
  {
   "cell_type": "code",
   "execution_count": null,
   "metadata": {},
   "outputs": [],
   "source": []
  },
  {
   "cell_type": "code",
   "execution_count": null,
   "metadata": {},
   "outputs": [],
   "source": []
  },
  {
   "cell_type": "code",
   "execution_count": 37,
   "metadata": {},
   "outputs": [],
   "source": [
    "def MSE_loss(target, predict):\n",
    "    return ((target - predict)**2).mean()"
   ]
  },
  {
   "cell_type": "code",
   "execution_count": 38,
   "metadata": {},
   "outputs": [],
   "source": [
    "class OwnLinearRegressionGD:\n",
    "    def __init__(self, k=1, b=1):\n",
    "        self.lr = 0.03 \n",
    "        self.n_iter = 1500\n",
    "        self.coef_ = None\n",
    "        self.intercept_ = None\n",
    "        self.W = np.array([b, k])\n",
    "\n",
    "    def calc_loss(self, X, Y):\n",
    "        X_full = np.c_[np.ones(X.shape[0]), X]\n",
    "        return MSE_loss(Y, X_full @ self.W)\n",
    "\n",
    "    def calc_grad(self, X, Y):\n",
    "        return 2 / X.shape[0] * (X.T @ ((X @ self.W) - Y))\n",
    "\n",
    "    def predict(self, X):\n",
    "        X_full = np.c_[np.ones(X.shape[0]), X]\n",
    "        return X_full @ self.W\n",
    "\n",
    "    def fit(self, X, Y):\n",
    "        X_full = np.c_[np.ones(X.shape[0]), X]\n",
    "        self.W = np.random.rand((X_full.shape[1]))\n",
    "        for _ in range(self.n_iter):\n",
    "            self.W = self.W - self.lr * self.calc_grad(X_full, Y)\n",
    "        self.coef_ = self.W[1:]\n",
    "        self.intercept_ = self.W[:1]\n",
    "        print(self.coef_, self.intercept_)"
   ]
  },
  {
   "cell_type": "code",
   "execution_count": 40,
   "metadata": {},
   "outputs": [
    {
     "name": "stdout",
     "output_type": "stream",
     "text": [
      "Predict =  [3.]\n",
      "[5.03898573] [-2.01487888]\n",
      "Predict =  [8.06309257]\n",
      "0.01472246058649575\n"
     ]
    }
   ],
   "source": [
    "lin_reg = OwnLinearRegressionGD(1, 1)\n",
    "\n",
    "print(\"Predict = \",lin_reg.predict(np.array([2])))\n",
    "X = xes.reshape((-1, 1))\n",
    "lin_reg.fit(X, noisy_target_ys)\n",
    "\n",
    "print(\"Predict = \",lin_reg.predict(np.array([2])))\n",
    "\n",
    "print(lin_reg.calc_loss(X, noisy_target_ys))"
   ]
  },
  {
   "cell_type": "code",
   "execution_count": 41,
   "metadata": {},
   "outputs": [
    {
     "data": {
      "text/plain": [
       "<matplotlib.axes._subplots.AxesSubplot at 0x20ba728d880>"
      ]
     },
     "execution_count": 41,
     "metadata": {},
     "output_type": "execute_result"
    },
    {
     "data": {
      "image/png": "[encoded data removed]",
      "text/plain": [
       "<Figure size 432x288 with 1 Axes>"
      ]
     },
     "metadata": {
      "needs_background": "light"
     },
     "output_type": "display_data"
    }
   ],
   "source": [
    "GDRegression_predict = [lin_reg.predict(np.array([x]))[0] for x in xes]\n",
    "sns.lineplot(x = xes, y = target_ys, color = \"g\")\n",
    "sns.lineplot(x = xes, y = noisy_target_ys, color = \"b\")\n",
    "sns.lineplot(x = xes, y = GDRegression_predict, color = \"r\")"
   ]
  },
  {
   "cell_type": "code",
   "execution_count": null,
   "metadata": {},
   "outputs": [],
   "source": []
  },
  {
   "cell_type": "code",
   "execution_count": 45,
   "metadata": {},
   "outputs": [],
   "source": [
    "np.random.seed(2)"
   ]
  },
  {
   "cell_type": "code",
   "execution_count": 46,
   "metadata": {},
   "outputs": [],
   "source": [
    "def linear_func(x):\n",
    "    \n",
    "    target_k = 2\n",
    "    target_b = 9\n",
    "    return target_k * x + target_b"
   ]
  },
  {
   "cell_type": "code",
   "execution_count": 47,
   "metadata": {},
   "outputs": [
    {
     "name": "stdout",
     "output_type": "stream",
     "text": [
      "[0.  0.1 0.2 0.3 0.4 0.5 0.6 0.7 0.8 0.9 1. ]\n",
      "[ 9.   9.2  9.4  9.6  9.8 10.  10.2 10.4 10.6 10.8 11. ]\n",
      "[ 8.95832422  9.19437332  9.18638039  9.76402708  9.62065644  9.91582526\n",
      " 10.25028814 10.27547119 10.49420478 10.70909924 11.0551454 ]\n"
     ]
    }
   ],
   "source": [
    "xes = np.linspace(0,1,11)\n",
    "print(xes)\n",
    "target_ys = np.array([linear_func(x) for x in xes])\n",
    "print(target_ys)\n",
    "noise = np.random.normal(0,0.1,11)\n",
    "noisy_target_ys = target_ys + noise\n",
    "print(noisy_target_ys)\n"
   ]
  },
  {
   "cell_type": "code",
   "execution_count": 48,
   "metadata": {},
   "outputs": [
    {
     "name": "stdout",
     "output_type": "stream",
     "text": [
      "Predict =  [6.]\n",
      "[2.01291931] [8.94106844]\n",
      "Predict =  [19.00566497]\n",
      "0.011252953312742876\n"
     ]
    }
   ],
   "source": [
    "lin_reg = OwnLinearRegressionGD(1, 1)\n",
    "\n",
    "print(\"Predict = \",lin_reg.predict(np.array([5])))\n",
    "X = xes.reshape((-1, 1))\n",
    "lin_reg.fit(X, noisy_target_ys)\n",
    "\n",
    "print(\"Predict = \",lin_reg.predict(np.array([5])))\n",
    "\n",
    "print(lin_reg.calc_loss(X, noisy_target_ys))"
   ]
  },
  {
   "cell_type": "code",
   "execution_count": 51,
   "metadata": {},
   "outputs": [
    {
     "name": "stdout",
     "output_type": "stream",
     "text": [
      "Predict [6]\n",
      "2.010818428651847 8.942208555024637\n",
      "Predict [18.99630069828387]\n"
     ]
    }
   ],
   "source": [
    "lin_reg = OwnLinearRegressionLS(1,1)\n",
    "print('Predict' , lin_reg.predict(np.array([5])))\n",
    "\n",
    "lin_reg.fit(xes, noisy_target_ys)\n",
    "print(lin_reg.k , lin_reg.b)\n",
    "print('Predict' , lin_reg.predict(np.array([5])))"
   ]
  },
  {
   "cell_type": "markdown",
   "metadata": {},
   "source": [
    "# Neuron"
   ]
  },
  {
   "cell_type": "code",
   "execution_count": 55,
   "metadata": {},
   "outputs": [],
   "source": [
    "class OneLinearLearnableNeuron:\n",
    "    \n",
    "    def __init__(self, w,b):\n",
    "        self.w = np.array(w)\n",
    "        self.b = np.array(b)\n",
    "        \n",
    "        self.n_iter = 500\n",
    "        self.lr = 0.1\n",
    "        \n",
    "    def calc_grad_w(self, x,y):\n",
    "        '''Derivatives of W in current x by W'''\n",
    "        return -2 * np.array(y) @ np.array(x) + \\\n",
    "        2 * (self.w @ np.array(x) + self.b) @ np.array(x).T\n",
    "    \n",
    "    def calc_grad_b(self, x,y):\n",
    "        '''Derivatives of W in current x by b'''\n",
    "        return -2 * np.array(y) + 2 * (self.w @ np.array([x]) + self.b)\n",
    "    \n",
    "    def calc_loss(self, target, predict):\n",
    "        return MSE_loss(np.array(target).reshape(1, -1),\\\n",
    "                        np.array(predict).reshape(1, -1))\n",
    "    \n",
    "    def apply(self,x):\n",
    "        return self.w * np.array(x) + self.b\n",
    "        \n",
    "    def train(self, x, y):\n",
    "        loss_hist = []\n",
    "        for i in range(self.n_iter):\n",
    "            current_predict = [self.apply(np.array(item)) for item in x]\n",
    "            loss_hist.append(self.calc_loss(current_predict, y))\n",
    "            for item in range(len(x)):\n",
    "                self.w = self.w - \\\n",
    "                self.lr * self.calc_grad_w([x[item]], [y[item]]) / len(x)\n",
    "                self.b = self.b - \\\n",
    "                self.lr * self.calc_grad_b([x[item]], [y[item]]) / len(x)\n",
    "        return loss_hist\n",
    "\n",
    "    def print_weights(self):\n",
    "        print('Neuron: w = {}, b = {}'.format(self.w, self.b))"
   ]
  },
  {
   "cell_type": "code",
   "execution_count": 53,
   "metadata": {},
   "outputs": [
    {
     "data": {
      "text/plain": [
       "array([4, 5, 5])"
      ]
     },
     "execution_count": 53,
     "metadata": {},
     "output_type": "execute_result"
    }
   ],
   "source": []
  },
  {
   "cell_type": "code",
   "execution_count": 56,
   "metadata": {},
   "outputs": [
    {
     "name": "stdout",
     "output_type": "stream",
     "text": [
      "[0]\n",
      "0\n",
      "[4]\n"
     ]
    }
   ],
   "source": [
    "neuron = OneLinearLearnableNeuron([3], [0])\n",
    "\n",
    "print(neuron.apply([0]))\n",
    "\n",
    "print(neuron.calc_grad_w([0], [-2]))\n",
    "print(neuron.calc_grad_b([0], [-2]))"
   ]
  },
  {
   "cell_type": "code",
   "execution_count": 58,
   "metadata": {
    "scrolled": true
   },
   "outputs": [
    {
     "name": "stdout",
     "output_type": "stream",
     "text": [
      "[8.99999973]\n",
      "Neuron: w = [2.00000048], b = [8.99999973]\n"
     ]
    },
    {
     "data": {
      "image/png": "[encoded data removed]",
      "text/plain": [
       "<Figure size 432x288 with 1 Axes>"
      ]
     },
     "metadata": {
      "needs_background": "light"
     },
     "output_type": "display_data"
    }
   ],
   "source": [
    "losses = neuron.train(xes, target_ys)\n",
    "sns.lineplot(\n",
    "    data=losses\n",
    ")\n",
    "print(neuron.apply([0]))\n",
    "\n",
    "neuron.print_weights()"
   ]
  },
  {
   "cell_type": "markdown",
   "metadata": {},
   "source": [
    "Зафиксируйте np.random.seed(3), сгенерируйте новую выборку для функции y=-x+2 и обучите 50 итераций с lr=0.3 , а потом ещё 50 с lr 0.1 .\n",
    "\n",
    "В ответ запишите predict при  с точностью до сотых, не округляя."
   ]
  },
  {
   "cell_type": "code",
   "execution_count": 59,
   "metadata": {},
   "outputs": [],
   "source": [
    "np.random.seed(3)"
   ]
  },
  {
   "cell_type": "code",
   "execution_count": 60,
   "metadata": {},
   "outputs": [],
   "source": [
    "def linear_func(x):\n",
    "    \n",
    "    target_b = 2\n",
    "    return - x + target_b"
   ]
  },
  {
   "cell_type": "code",
   "execution_count": 61,
   "metadata": {},
   "outputs": [
    {
     "name": "stdout",
     "output_type": "stream",
     "text": [
      "[0.  0.1 0.2 0.3 0.4 0.5 0.6 0.7 0.8 0.9 1. ]\n",
      "[2.  1.9 1.8 1.7 1.6 1.5 1.4 1.3 1.2 1.1 1. ]\n",
      "[2.17886285 1.94365099 1.80964975 1.51365073 1.57226118 1.4645241\n",
      " 1.39172585 1.23729993 1.19561818 1.0522782  0.86861352]\n"
     ]
    }
   ],
   "source": [
    "xes = np.linspace(0,1,11)\n",
    "print(xes)\n",
    "target_ys = np.array([linear_func(x) for x in xes])\n",
    "print(target_ys)\n",
    "noise = np.random.normal(0,0.1,11)\n",
    "noisy_target_ys = target_ys + noise\n",
    "print(noisy_target_ys)"
   ]
  },
  {
   "cell_type": "code",
   "execution_count": 69,
   "metadata": {},
   "outputs": [],
   "source": [
    "class OneLinearLearnableNeuron:\n",
    "    \n",
    "    def __init__(self, w,b):\n",
    "        self.w = np.array(w)\n",
    "        self.b = np.array(b)\n",
    "        \n",
    "        self.n_iter = 101\n",
    "        self.lr_1 = 0.3\n",
    "        self.lr_2 = 0.1\n",
    "        \n",
    "    def calc_grad_w(self, x,y):\n",
    "        '''Derivatives of W in current x by W'''\n",
    "        return -2 * np.array(y) @ np.array(x) + \\\n",
    "        2 * (self.w @ np.array(x) + self.b) @ np.array(x).T\n",
    "    \n",
    "    def calc_grad_b(self, x,y):\n",
    "        '''Derivatives of W in current x by b'''\n",
    "        return -2 * np.array(y) + 2 * (self.w @ np.array([x]) + self.b)\n",
    "    \n",
    "    def calc_loss(self, target, predict):\n",
    "        return MSE_loss(np.array(target).reshape(1, -1),\\\n",
    "                        np.array(predict).reshape(1, -1))\n",
    "    \n",
    "    def apply(self,x):\n",
    "        return self.w * np.array(x) + self.b\n",
    "        \n",
    "    def train(self, x, y):\n",
    "        loss_hist = []\n",
    "        for i in range(self.n_iter):\n",
    "            if i <= 50:\n",
    "                current_predict = [self.apply(np.array(item)) for item in x]\n",
    "                loss_hist.append(self.calc_loss(current_predict, y))\n",
    "                for item in range(len(x)):\n",
    "                    self.w = self.w - \\\n",
    "                    self.lr_1 * self.calc_grad_w([x[item]], [y[item]]) / len(x)\n",
    "                    self.b = self.b - \\\n",
    "                    self.lr_1 * self.calc_grad_b([x[item]], [y[item]]) / len(x)\n",
    "            else:\n",
    "                current_predict = [self.apply(np.array(item)) for item in x]\n",
    "                loss_hist.append(self.calc_loss(current_predict, y))\n",
    "                for item in range(len(x)):\n",
    "                    self.w = self.w - \\\n",
    "                    self.lr_2 * self.calc_grad_w([x[item]], [y[item]]) / len(x)\n",
    "                    self.b = self.b - \\\n",
    "                    self.lr_2 * self.calc_grad_b([x[item]], [y[item]]) / len(x)\n",
    "        return loss_hist\n",
    "\n",
    "    def print_weights(self):\n",
    "        print('Neuron: w = {}, b = {}'.format(self.w, self.b))"
   ]
  },
  {
   "cell_type": "code",
   "execution_count": 70,
   "metadata": {},
   "outputs": [
    {
     "name": "stdout",
     "output_type": "stream",
     "text": [
      "[9]\n",
      "0\n",
      "[4]\n"
     ]
    }
   ],
   "source": [
    "neuron = OneLinearLearnableNeuron([3], [0])\n",
    "\n",
    "print(neuron.apply([3]))\n",
    "\n",
    "print(neuron.calc_grad_w([0], [-2]))\n",
    "print(neuron.calc_grad_b([0], [-2]))"
   ]
  },
  {
   "cell_type": "code",
   "execution_count": 71,
   "metadata": {},
   "outputs": [
    {
     "name": "stdout",
     "output_type": "stream",
     "text": [
      "[-0.66218522]\n"
     ]
    },
    {
     "data": {
      "image/png": "[encoded data removed]",
      "text/plain": [
       "<Figure size 432x288 with 1 Axes>"
      ]
     },
     "metadata": {
      "needs_background": "light"
     },
     "output_type": "display_data"
    }
   ],
   "source": [
    "losses = neuron.train(xes, target_ys)\n",
    "sns.lineplot(\n",
    "    data=losses\n",
    ")\n",
    "print(neuron.apply([3]))\n"
   ]
  },
  {
   "cell_type": "code",
   "execution_count": null,
   "metadata": {},
   "outputs": [],
   "source": []
  }
 ],
 "metadata": {
  "kernelspec": {
   "display_name": "Python 3",
   "language": "python",
   "name": "python3"
  },
  "language_info": {
   "codemirror_mode": {
    "name": "ipython",
    "version": 3
   },
   "file_extension": ".py",
   "mimetype": "text/x-python",
   "name": "python",
   "nbconvert_exporter": "python",
   "pygments_lexer": "ipython3",
   "version": "3.8.3"
  },
  "toc": {
   "base_numbering": 1,
   "nav_menu": {},
   "number_sections": true,
   "sideBar": true,
   "skip_h1_title": false,
   "title_cell": "Table of Contents",
   "title_sidebar": "Contents",
   "toc_cell": false,
   "toc_position": {},
   "toc_section_display": true,
   "toc_window_display": false
  },
  "varInspector": {
   "cols": {
    "lenName": 16,
    "lenType": 16,
    "lenVar": 40
   },
   "kernels_config": {
    "python": {
     "delete_cmd_postfix": "",
     "delete_cmd_prefix": "del ",
     "library": "var_list.py",
     "varRefreshCmd": "print(var_dic_list())"
    },
    "r": {
     "delete_cmd_postfix": ") ",
     "delete_cmd_prefix": "rm(",
     "library": "var_list.r",
     "varRefreshCmd": "cat(var_dic_list()) "
    }
   },
   "types_to_exclude": [
    "module",
    "function",
    "builtin_function_or_method",
    "instance",
    "_Feature"
   ],
   "window_display": false
  }
 },
 "nbformat": 4,
 "nbformat_minor": 4
}
